{
 "cells": [
  {
   "cell_type": "code",
   "execution_count": 1,
   "metadata": {
    "ExecuteTime": {
     "end_time": "2020-07-05T11:45:00.104218Z",
     "start_time": "2020-07-05T11:45:00.023579Z"
    }
   },
   "outputs": [
    {
     "name": "stdout",
     "output_type": "stream",
     "text": [
      "Module: _\n",
      "├── Expr: _\n",
      "├── ImportFrom: _\n",
      "├── Import: _\n",
      "├── Import: _\n",
      "├── Import: _\n",
      "├── Assign: _\n",
      "├── Assign: _\n",
      "├── FunctionDef: download\n",
      "│   ├── Expr: _\n",
      "│   ├── Assign: _\n",
      "│   ├── Assign: _\n",
      "│   ├── With: _\n",
      "│   │   └── Expr: _\n",
      "│   └── Expr: _\n",
      "└── FunctionDef: list\n",
      "    ├── Expr: _\n",
      "    └── Return: _\n"
     ]
    }
   ],
   "source": [
    "from backend.tool.anal_sources import AnalSources, parse, AstNode\n",
    "anal=AnalSources()\n",
    "anal.anal('../executors/downloader.py')"
   ]
  },
  {
   "cell_type": "code",
   "execution_count": 2,
   "metadata": {
    "ExecuteTime": {
     "end_time": "2020-07-05T11:45:00.135764Z",
     "start_time": "2020-07-05T11:45:00.113830Z"
    }
   },
   "outputs": [
    {
     "data": {
      "text/plain": [
       "['download', 'list']"
      ]
     },
     "execution_count": 2,
     "metadata": {},
     "output_type": "execute_result"
    }
   ],
   "source": [
    "from anytree.search import findall, findall_by_attr\n",
    "import gast\n",
    "tree=parse('../executors/downloader.py')\n",
    "root=AstNode(ast_node=tree)\n",
    "# root.name\n",
    "fn_ls=findall(root, filter_=lambda node: node.ast_type in (\"FunctionDef\"), maxlevel=2)\n",
    "[(fn.name) for fn in fn_ls]"
   ]
  },
  {
   "cell_type": "code",
   "execution_count": 3,
   "metadata": {
    "ExecuteTime": {
     "end_time": "2020-07-05T11:45:00.144371Z",
     "start_time": "2020-07-05T11:45:00.140446Z"
    }
   },
   "outputs": [],
   "source": [
    "# gtree = gast.ast_to_gast(tree)\n",
    "# root=AstNode(ast_node=gtree)\n",
    "# f=gtree.body[7]\n",
    "# gast.get_docstring(f)"
   ]
  },
  {
   "cell_type": "code",
   "execution_count": 4,
   "metadata": {
    "ExecuteTime": {
     "end_time": "2020-07-05T11:45:00.157376Z",
     "start_time": "2020-07-05T11:45:00.148738Z"
    }
   },
   "outputs": [
    {
     "data": {
      "text/plain": [
       "[('download',\n",
       "  'Download a page and save it to the BASEDIR directory\\n  url: the url to download\\n  filename: the filename used to save the url in BASEDIR'),\n",
       " ('list', 'Return an array of all downloaded files ')]"
      ]
     },
     "execution_count": 4,
     "metadata": {},
     "output_type": "execute_result"
    }
   ],
   "source": [
    "fn_ls=findall(root, filter_=lambda node: node.ast_type in (\"FunctionDef\"), maxlevel=2)\n",
    "[(fn.name, fn.doc_str) for fn in fn_ls]"
   ]
  },
  {
   "cell_type": "code",
   "execution_count": 5,
   "metadata": {
    "ExecuteTime": {
     "end_time": "2020-07-05T11:45:00.185563Z",
     "start_time": "2020-07-05T11:45:00.163807Z"
    }
   },
   "outputs": [
    {
     "data": {
      "text/plain": [
       "[('download',\n",
       "  'Download a page and save it to the BASEDIR directory\\n  url: the url to download\\n  filename: the filename used to save the url in BASEDIR'),\n",
       " ('list', 'Return an array of all downloaded files ')]"
      ]
     },
     "execution_count": 5,
     "metadata": {},
     "output_type": "execute_result"
    }
   ],
   "source": [
    "at=AstNode.load('../executors/downloader.py')\n",
    "at.fn_docs"
   ]
  }
 ],
 "metadata": {
  "kernelspec": {
   "display_name": "Python 3",
   "language": "python",
   "name": "python3"
  },
  "language_info": {
   "codemirror_mode": {
    "name": "ipython",
    "version": 3
   },
   "file_extension": ".py",
   "mimetype": "text/x-python",
   "name": "python",
   "nbconvert_exporter": "python",
   "pygments_lexer": "ipython3",
   "version": "3.6.6"
  },
  "varInspector": {
   "cols": {
    "lenName": 16,
    "lenType": 16,
    "lenVar": 40
   },
   "kernels_config": {
    "python": {
     "delete_cmd_postfix": "",
     "delete_cmd_prefix": "del ",
     "library": "var_list.py",
     "varRefreshCmd": "print(var_dic_list())"
    },
    "r": {
     "delete_cmd_postfix": ") ",
     "delete_cmd_prefix": "rm(",
     "library": "var_list.r",
     "varRefreshCmd": "cat(var_dic_list()) "
    }
   },
   "types_to_exclude": [
    "module",
    "function",
    "builtin_function_or_method",
    "instance",
    "_Feature"
   ],
   "window_display": false
  }
 },
 "nbformat": 4,
 "nbformat_minor": 2
}
