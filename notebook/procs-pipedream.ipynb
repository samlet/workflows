{
 "cells": [
  {
   "cell_type": "code",
   "execution_count": 2,
   "metadata": {
    "ExecuteTime": {
     "end_time": "2020-07-06T09:11:03.434837Z",
     "start_time": "2020-07-06T09:11:03.415857Z"
    }
   },
   "outputs": [
    {
     "data": {
      "text/plain": [
       "('/Users/xiaofeiwu/jcloud/assets/langs/workspace/rasa/rasa-1.x/ws/workflows/notebook',\n",
       " '938a8643625966d121fb56dc145a8b49')"
      ]
     },
     "execution_count": 2,
     "metadata": {},
     "output_type": "execute_result"
    }
   ],
   "source": [
    "import os\n",
    "from dotenv import load_dotenv\n",
    "load_dotenv()\n",
    "\n",
    "KEY = os.getenv(\"PIPEDREAM\")\n",
    "os.getcwd()"
   ]
  },
  {
   "cell_type": "code",
   "execution_count": 3,
   "metadata": {
    "ExecuteTime": {
     "end_time": "2020-07-06T09:12:10.934103Z",
     "start_time": "2020-07-06T09:12:06.673214Z"
    }
   },
   "outputs": [
    {
     "name": "stdout",
     "output_type": "stream",
     "text": [
      "{\"data\":{\"id\":\"dc_wDuvqE\",\"user_id\":\"u_j5hrMN\",\"component_id\":\"sc_71LilW\",\"configured_props\":{\"http\":{\"endpoint_url\":\"https://d0ae4792ffaba36019f0a7fb0f5abf98.m.pipedream.net\"}},\"active\":true,\"created_at\":1594026711,\"updated_at\":1594026711,\"name\":\"http\",\"name_slug\":\"http-1\"}}\n"
     ]
    }
   ],
   "source": [
    "import http.client\n",
    "\n",
    "# CREATE BIN\n",
    "conn = http.client.HTTPSConnection('api.pipedream.com')\n",
    "conn.request(\"POST\", '/v1/sources', '{\"component_url\":\"https://github.com/PipedreamHQ/pipedream/blob/master/components/http/http.js\"}', {\n",
    "  'Authorization': f'Bearer {KEY}',\n",
    "  'Content-Type': 'application/json',\n",
    "})\n",
    "\n",
    "res = conn.getresponse()\n",
    "data = res.read()\n",
    "\n",
    "print(data.decode(\"utf-8\"))"
   ]
  },
  {
   "cell_type": "code",
   "execution_count": 8,
   "metadata": {
    "ExecuteTime": {
     "end_time": "2020-07-06T09:29:56.503403Z",
     "start_time": "2020-07-06T09:29:55.371004Z"
    }
   },
   "outputs": [
    {
     "data": {
      "text/plain": [
       "{'page_info': {'total_count': 3,\n",
       "  'count': 3,\n",
       "  'start_cursor': 'ZGNfd0R1dnFF',\n",
       "  'end_cursor': 'ZGNfTDN1YlJ3'},\n",
       " 'data': [{'id': 'dc_wDuvqE',\n",
       "   'component_id': 'sc_71LilW',\n",
       "   'configured_props': {'http': {'endpoint_url': 'https://d0ae4792ffaba36019f0a7fb0f5abf98.m.pipedream.net'}},\n",
       "   'active': True,\n",
       "   'created_at': 1594026711,\n",
       "   'updated_at': 1594026711,\n",
       "   'name': 'http',\n",
       "   'name_slug': 'http-1'},\n",
       "  {'id': 'dc_nvuEXZ',\n",
       "   'component_id': 'sc_0riEBj',\n",
       "   'configured_props': {'db': {'type': '$.service.db'},\n",
       "    'twitter': {'authProvisionId': 'apn_DphM0m'},\n",
       "    'q': 'star wars',\n",
       "    'lang': {'__lv': {'label': 'English (en)',\n",
       "      'value': 'en',\n",
       "      '__typename': 'Selectable'}},\n",
       "    'timer': {'cron': None, 'interval_seconds': 900}},\n",
       "   'active': True,\n",
       "   'created_at': 1593871642,\n",
       "   'updated_at': 1593871642,\n",
       "   'name': 'search-mentions',\n",
       "   'name_slug': 'search-mentions'},\n",
       "  {'id': 'dc_L3ubRw',\n",
       "   'component_id': 'sc_71LilW',\n",
       "   'configured_props': {'http': {'endpoint_url': 'https://dd55316da6a1993ec2771af2f9ac1017.m.pipedream.net'}},\n",
       "   'active': True,\n",
       "   'created_at': 1593871191,\n",
       "   'updated_at': 1593871191,\n",
       "   'name': 'http',\n",
       "   'name_slug': 'http'}]}"
      ]
     },
     "execution_count": 8,
     "metadata": {},
     "output_type": "execute_result"
    }
   ],
   "source": [
    "import http.client\n",
    "import json\n",
    "\n",
    "# LIST BINS\n",
    "conn = http.client.HTTPSConnection('api.pipedream.com')\n",
    "conn.request(\"GET\", '/v1/users/me/sources', '', {\n",
    "  'Authorization': f'Bearer {KEY}',\n",
    "})\n",
    "\n",
    "res = conn.getresponse()\n",
    "data = res.read()\n",
    "\n",
    "json.loads(data.decode(\"utf-8\"))"
   ]
  },
  {
   "cell_type": "code",
   "execution_count": 7,
   "metadata": {
    "ExecuteTime": {
     "end_time": "2020-07-06T09:29:45.214702Z",
     "start_time": "2020-07-06T09:29:43.831645Z"
    }
   },
   "outputs": [
    {
     "name": "stdout",
     "output_type": "stream",
     "text": [
      "\n"
     ]
    }
   ],
   "source": [
    "import http.client\n",
    "\n",
    "conn = http.client.HTTPSConnection('api.pipedream.com')\n",
    "conn.request(\"GET\", '/v1/sources/<SOURCE-ID>/event_summaries?expand=event', '', {\n",
    "  'Authorization': f'Bearer {KEY}',\n",
    "})\n",
    "\n",
    "res = conn.getresponse()\n",
    "data = res.read()\n",
    "\n",
    "print(data.decode(\"utf-8\"))"
   ]
  },
  {
   "cell_type": "code",
   "execution_count": 14,
   "metadata": {
    "ExecuteTime": {
     "end_time": "2020-07-06T15:11:55.271733Z",
     "start_time": "2020-07-06T15:11:52.849398Z"
    }
   },
   "outputs": [
    {
     "name": "stdout",
     "output_type": "stream",
     "text": [
      "{\"message\":\"response from samlet@samlet\"}\n"
     ]
    }
   ],
   "source": [
    "import http.client\n",
    " \n",
    "conn = http.client.HTTPSConnection('enal9agllu29mxi.m.pipedream.net')\n",
    "conn.request(\"POST\", \"/\", '''{\n",
    "  \"mock_data\": \"true\",\n",
    "  \"ip_address\": \"92.188.61.181\",\n",
    "  \"email\": \"user@example.com\",\n",
    "  \"user_agent\": \"Mozilla/5.0 (Macintosh; Intel Mac OS X 10_6_4) AppleWebKit/534.30 (KHTML, like Gecko) Chrome/12.0.742.100 Safari/534.30\",\n",
    "  \"url\": \"http://example.com/\"\n",
    "}''', {'Content-Type': 'application/json'})\n",
    "\n",
    "res = conn.getresponse()\n",
    "data = res.read()\n",
    "\n",
    "print(data.decode(\"utf-8\"))"
   ]
  }
 ],
 "metadata": {
  "kernelspec": {
   "display_name": "Python 3",
   "language": "python",
   "name": "python3"
  },
  "language_info": {
   "codemirror_mode": {
    "name": "ipython",
    "version": 3
   },
   "file_extension": ".py",
   "mimetype": "text/x-python",
   "name": "python",
   "nbconvert_exporter": "python",
   "pygments_lexer": "ipython3",
   "version": "3.6.6"
  },
  "varInspector": {
   "cols": {
    "lenName": 16,
    "lenType": 16,
    "lenVar": 40
   },
   "kernels_config": {
    "python": {
     "delete_cmd_postfix": "",
     "delete_cmd_prefix": "del ",
     "library": "var_list.py",
     "varRefreshCmd": "print(var_dic_list())"
    },
    "r": {
     "delete_cmd_postfix": ") ",
     "delete_cmd_prefix": "rm(",
     "library": "var_list.r",
     "varRefreshCmd": "cat(var_dic_list()) "
    }
   },
   "types_to_exclude": [
    "module",
    "function",
    "builtin_function_or_method",
    "instance",
    "_Feature"
   ],
   "window_display": false
  }
 },
 "nbformat": 4,
 "nbformat_minor": 2
}
